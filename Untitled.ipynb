{
 "cells": [
  {
   "cell_type": "markdown",
   "id": "e66bb46b",
   "metadata": {},
   "source": [
    "# 1. Import Dependencies"
   ]
  },
  {
   "cell_type": "code",
   "execution_count": 1,
   "id": "7c8b00f8",
   "metadata": {},
   "outputs": [],
   "source": [
    "import gym\n",
    "from gym import Env\n",
    "from gym.spaces import Discrete, Box, Dict, Tuple, MultiBinary, MultiDiscrete\n",
    "import os\n",
    "import numpy as np\n",
    "import random\n",
    "from stable_baselines3 import PPO\n",
    "from stable_baselines3.common.vec_env import DummyVecEnv\n",
    "from stable_baselines3.common.evaluation import evaluate_policy\n"
   ]
  },
  {
   "cell_type": "markdown",
   "id": "a24b263b",
   "metadata": {},
   "source": [
    "# 2. Types of Spaces"
   ]
  },
  {
   "cell_type": "code",
   "execution_count": 12,
   "id": "860d2047",
   "metadata": {},
   "outputs": [
    {
     "data": {
      "text/plain": [
       "8"
      ]
     },
     "execution_count": 12,
     "metadata": {},
     "output_type": "execute_result"
    }
   ],
   "source": [
    "Discrete(20).sample()"
   ]
  },
  {
   "cell_type": "code",
   "execution_count": 14,
   "id": "0c2cba52",
   "metadata": {},
   "outputs": [
    {
     "data": {
      "text/plain": [
       "array([3.64423   , 0.75204897, 3.2204583 ], dtype=float32)"
      ]
     },
     "execution_count": 14,
     "metadata": {},
     "output_type": "execute_result"
    }
   ],
   "source": [
    "# Box(0, 4, shape=(3, 3)).sample()\n",
    "Box(0, 4, shape=(3,)).sample()"
   ]
  },
  {
   "cell_type": "code",
   "execution_count": 19,
   "id": "7b8bf7dc",
   "metadata": {},
   "outputs": [
    {
     "data": {
      "text/plain": [
       "(0, array([0.5754729 , 0.51964945, 0.67516273], dtype=float32))"
      ]
     },
     "execution_count": 19,
     "metadata": {},
     "output_type": "execute_result"
    }
   ],
   "source": [
    "Tuple((Discrete(3), Box(0,1, shape=(3,)))).sample() #not suppported"
   ]
  },
  {
   "cell_type": "code",
   "execution_count": 22,
   "id": "dba08c8c",
   "metadata": {},
   "outputs": [
    {
     "data": {
      "text/plain": [
       "OrderedDict([('height', 1), ('speed', array([20.307375], dtype=float32))])"
      ]
     },
     "execution_count": 22,
     "metadata": {},
     "output_type": "execute_result"
    }
   ],
   "source": [
    "Dict({'height':Discrete(2), \"speed\":Box(0, 100, shape=(1, ))}).sample()"
   ]
  },
  {
   "cell_type": "code",
   "execution_count": 30,
   "id": "3acb27ea",
   "metadata": {},
   "outputs": [
    {
     "data": {
      "text/plain": [
       "array([1, 1, 0, 1], dtype=int8)"
      ]
     },
     "execution_count": 30,
     "metadata": {},
     "output_type": "execute_result"
    }
   ],
   "source": [
    "MultiBinary(4).sample() #position"
   ]
  },
  {
   "cell_type": "code",
   "execution_count": 43,
   "id": "62067474",
   "metadata": {},
   "outputs": [
    {
     "data": {
      "text/plain": [
       "array([1, 0, 1])"
      ]
     },
     "execution_count": 43,
     "metadata": {},
     "output_type": "execute_result"
    }
   ],
   "source": [
    "MultiDiscrete([5, 3, 6]).sample()"
   ]
  },
  {
   "cell_type": "markdown",
   "id": "75e79cf4",
   "metadata": {},
   "source": [
    "# 3. Build a Environment\n",
    "- build an agent to give us the best shower possible\n",
    "- randomly temperature\n",
    "- 37 and 39 degrees"
   ]
  },
  {
   "cell_type": "code",
   "execution_count": 47,
   "id": "82ed5c04",
   "metadata": {},
   "outputs": [],
   "source": [
    "class ShowerEnv(Env):\n",
    "    def __init__(self):\n",
    "        self.action_space = Discrete(3)\n",
    "#         self.observation_space = Box(low=np.array([0]), high=np.array([100]))\n",
    "        self.observation_space = Box(low=0, high=100, shape=(1,))\n",
    "        self.state = 38 +random.randint(-3, 3)\n",
    "        self.shower_length = 60\n",
    "    \n",
    "    def step(self, action):\n",
    "       # apply temp adj\n",
    "        self.state += action-1\n",
    "        #  decrease shower time\n",
    "        self.shower_length -=1\n",
    "        #calculate reward\n",
    "        if self.state >=37 and self.state<=39:\n",
    "            reward = 1\n",
    "        else:\n",
    "            reward = -1\n",
    "        if self.shower_length <=0:\n",
    "            done = True\n",
    "        else:\n",
    "            done = False\n",
    "        info ={}\n",
    "        return self.state, reward, done, info\n",
    "    def render(self):\n",
    "        pass\n",
    "    def reset(self):\n",
    "        self.state = np.array([38+random.randint(-3, 3)]).astype(float)\n",
    "        self.shower_length = 60\n",
    "        return self.state\n",
    "    "
   ]
  },
  {
   "cell_type": "code",
   "execution_count": 48,
   "id": "8f83b3ef",
   "metadata": {},
   "outputs": [],
   "source": [
    "env = ShowerEnv()\n"
   ]
  },
  {
   "cell_type": "code",
   "execution_count": 69,
   "id": "583a350d",
   "metadata": {},
   "outputs": [
    {
     "data": {
      "text/plain": [
       "array([71.822685], dtype=float32)"
      ]
     },
     "execution_count": 69,
     "metadata": {},
     "output_type": "execute_result"
    }
   ],
   "source": [
    "env.observation_space.sample()"
   ]
  },
  {
   "cell_type": "code",
   "execution_count": 95,
   "id": "f5829661",
   "metadata": {},
   "outputs": [
    {
     "data": {
      "text/plain": [
       "array([41.])"
      ]
     },
     "execution_count": 95,
     "metadata": {},
     "output_type": "execute_result"
    }
   ],
   "source": [
    "env.reset()"
   ]
  },
  {
   "cell_type": "code",
   "execution_count": 102,
   "id": "2f323467",
   "metadata": {},
   "outputs": [
    {
     "data": {
      "text/plain": [
       "1"
      ]
     },
     "execution_count": 102,
     "metadata": {},
     "output_type": "execute_result"
    }
   ],
   "source": [
    "env.action_space.sample()"
   ]
  },
  {
   "cell_type": "markdown",
   "id": "461a2022",
   "metadata": {},
   "source": [
    "# 4. Test Environment"
   ]
  },
  {
   "cell_type": "code",
   "execution_count": 104,
   "id": "5ec18452",
   "metadata": {},
   "outputs": [
    {
     "name": "stdout",
     "output_type": "stream",
     "text": [
      "Episode:1 Score:-2\n",
      "Episode:2 Score:-60\n",
      "Episode:3 Score:-60\n",
      "Episode:4 Score:-56\n",
      "Episode:5 Score:-44\n"
     ]
    }
   ],
   "source": [
    "episodes = 5\n",
    "for episode in range(1, episodes+1):\n",
    "    obs = env.reset()\n",
    "    done = False\n",
    "    score = 0\n",
    "    while not done:\n",
    "        action = env.action_space.sample()\n",
    "        obs, reward, done, info = env.step(action)\n",
    "        score +=reward\n",
    "    print('Episode:{} Score:{}'.format(episode, score))\n"
   ]
  },
  {
   "cell_type": "markdown",
   "id": "e813389b",
   "metadata": {},
   "source": [
    "# 5. Train Model"
   ]
  },
  {
   "cell_type": "code",
   "execution_count": 105,
   "id": "8898ac1b",
   "metadata": {},
   "outputs": [
    {
     "name": "stdout",
     "output_type": "stream",
     "text": [
      "Using cpu device\n",
      "Wrapping the env with a `Monitor` wrapper\n",
      "Wrapping the env in a DummyVecEnv.\n"
     ]
    }
   ],
   "source": [
    "log_path = os.path.join('Training', 'Logs')\n",
    "model = PPO('MlpPolicy', env, verbose=1, tensorboard_log=log_path)"
   ]
  },
  {
   "cell_type": "code",
   "execution_count": 108,
   "id": "d1892f50",
   "metadata": {},
   "outputs": [
    {
     "name": "stdout",
     "output_type": "stream",
     "text": [
      "Logging to Training/Logs/PPO_3\n",
      "---------------------------------\n",
      "| rollout/           |          |\n",
      "|    ep_len_mean     | 60       |\n",
      "|    ep_rew_mean     | -18.2    |\n",
      "| time/              |          |\n",
      "|    fps             | 1935     |\n",
      "|    iterations      | 1        |\n",
      "|    time_elapsed    | 1        |\n",
      "|    total_timesteps | 2048     |\n",
      "---------------------------------\n",
      "-----------------------------------------\n",
      "| rollout/                |             |\n",
      "|    ep_len_mean          | 60          |\n",
      "|    ep_rew_mean          | -16.4       |\n",
      "| time/                   |             |\n",
      "|    fps                  | 1246        |\n",
      "|    iterations           | 2           |\n",
      "|    time_elapsed         | 3           |\n",
      "|    total_timesteps      | 4096        |\n",
      "| train/                  |             |\n",
      "|    approx_kl            | 0.007992078 |\n",
      "|    clip_fraction        | 0.0494      |\n",
      "|    clip_range           | 0.2         |\n",
      "|    entropy_loss         | -0.854      |\n",
      "|    explained_variance   | 0.00404     |\n",
      "|    learning_rate        | 0.0003      |\n",
      "|    loss                 | 32.1        |\n",
      "|    n_updates            | 120         |\n",
      "|    policy_gradient_loss | -0.00445    |\n",
      "|    value_loss           | 75          |\n",
      "-----------------------------------------\n",
      "------------------------------------------\n",
      "| rollout/                |              |\n",
      "|    ep_len_mean          | 60           |\n",
      "|    ep_rew_mean          | -18.8        |\n",
      "| time/                   |              |\n",
      "|    fps                  | 1139         |\n",
      "|    iterations           | 3            |\n",
      "|    time_elapsed         | 5            |\n",
      "|    total_timesteps      | 6144         |\n",
      "| train/                  |              |\n",
      "|    approx_kl            | 0.0030597923 |\n",
      "|    clip_fraction        | 0.0195       |\n",
      "|    clip_range           | 0.2          |\n",
      "|    entropy_loss         | -0.793       |\n",
      "|    explained_variance   | -0.00343     |\n",
      "|    learning_rate        | 0.0003       |\n",
      "|    loss                 | 44.3         |\n",
      "|    n_updates            | 130          |\n",
      "|    policy_gradient_loss | 0.000298     |\n",
      "|    value_loss           | 88.1         |\n",
      "------------------------------------------\n",
      "-----------------------------------------\n",
      "| rollout/                |             |\n",
      "|    ep_len_mean          | 60          |\n",
      "|    ep_rew_mean          | -19.1       |\n",
      "| time/                   |             |\n",
      "|    fps                  | 1097        |\n",
      "|    iterations           | 4           |\n",
      "|    time_elapsed         | 7           |\n",
      "|    total_timesteps      | 8192        |\n",
      "| train/                  |             |\n",
      "|    approx_kl            | 0.006895082 |\n",
      "|    clip_fraction        | 0.0381      |\n",
      "|    clip_range           | 0.2         |\n",
      "|    entropy_loss         | -0.766      |\n",
      "|    explained_variance   | 0.0131      |\n",
      "|    learning_rate        | 0.0003      |\n",
      "|    loss                 | 50.3        |\n",
      "|    n_updates            | 140         |\n",
      "|    policy_gradient_loss | -0.00437    |\n",
      "|    value_loss           | 81.5        |\n",
      "-----------------------------------------\n",
      "------------------------------------------\n",
      "| rollout/                |              |\n",
      "|    ep_len_mean          | 60           |\n",
      "|    ep_rew_mean          | -20          |\n",
      "| time/                   |              |\n",
      "|    fps                  | 1060         |\n",
      "|    iterations           | 5            |\n",
      "|    time_elapsed         | 9            |\n",
      "|    total_timesteps      | 10240        |\n",
      "| train/                  |              |\n",
      "|    approx_kl            | 0.0054227854 |\n",
      "|    clip_fraction        | 0.0207       |\n",
      "|    clip_range           | 0.2          |\n",
      "|    entropy_loss         | -0.686       |\n",
      "|    explained_variance   | 0.0158       |\n",
      "|    learning_rate        | 0.0003       |\n",
      "|    loss                 | 46.6         |\n",
      "|    n_updates            | 150          |\n",
      "|    policy_gradient_loss | -0.00122     |\n",
      "|    value_loss           | 82.4         |\n",
      "------------------------------------------\n",
      "------------------------------------------\n",
      "| rollout/                |              |\n",
      "|    ep_len_mean          | 60           |\n",
      "|    ep_rew_mean          | -16.7        |\n",
      "| time/                   |              |\n",
      "|    fps                  | 1026         |\n",
      "|    iterations           | 6            |\n",
      "|    time_elapsed         | 11           |\n",
      "|    total_timesteps      | 12288        |\n",
      "| train/                  |              |\n",
      "|    approx_kl            | 0.0027084812 |\n",
      "|    clip_fraction        | 0.0223       |\n",
      "|    clip_range           | 0.2          |\n",
      "|    entropy_loss         | -0.646       |\n",
      "|    explained_variance   | 0.0325       |\n",
      "|    learning_rate        | 0.0003       |\n",
      "|    loss                 | 52           |\n",
      "|    n_updates            | 160          |\n",
      "|    policy_gradient_loss | -0.0028      |\n",
      "|    value_loss           | 96.2         |\n",
      "------------------------------------------\n",
      "------------------------------------------\n",
      "| rollout/                |              |\n",
      "|    ep_len_mean          | 60           |\n",
      "|    ep_rew_mean          | -15          |\n",
      "| time/                   |              |\n",
      "|    fps                  | 1017         |\n",
      "|    iterations           | 7            |\n",
      "|    time_elapsed         | 14           |\n",
      "|    total_timesteps      | 14336        |\n",
      "| train/                  |              |\n",
      "|    approx_kl            | 0.0017246518 |\n",
      "|    clip_fraction        | 0.0207       |\n",
      "|    clip_range           | 0.2          |\n",
      "|    entropy_loss         | -0.673       |\n",
      "|    explained_variance   | -0.0137      |\n",
      "|    learning_rate        | 0.0003       |\n",
      "|    loss                 | 45.1         |\n",
      "|    n_updates            | 170          |\n",
      "|    policy_gradient_loss | 8.23e-05     |\n",
      "|    value_loss           | 89.1         |\n",
      "------------------------------------------\n",
      "------------------------------------------\n",
      "| rollout/                |              |\n",
      "|    ep_len_mean          | 60           |\n",
      "|    ep_rew_mean          | -20.5        |\n",
      "| time/                   |              |\n",
      "|    fps                  | 1000         |\n",
      "|    iterations           | 8            |\n",
      "|    time_elapsed         | 16           |\n",
      "|    total_timesteps      | 16384        |\n",
      "| train/                  |              |\n",
      "|    approx_kl            | 0.0060061207 |\n",
      "|    clip_fraction        | 0.0399       |\n",
      "|    clip_range           | 0.2          |\n",
      "|    entropy_loss         | -0.632       |\n",
      "|    explained_variance   | -0.0143      |\n",
      "|    learning_rate        | 0.0003       |\n",
      "|    loss                 | 53.4         |\n",
      "|    n_updates            | 180          |\n",
      "|    policy_gradient_loss | -0.00116     |\n",
      "|    value_loss           | 104          |\n",
      "------------------------------------------\n",
      "------------------------------------------\n",
      "| rollout/                |              |\n",
      "|    ep_len_mean          | 60           |\n",
      "|    ep_rew_mean          | -23.2        |\n",
      "| time/                   |              |\n",
      "|    fps                  | 987          |\n",
      "|    iterations           | 9            |\n",
      "|    time_elapsed         | 18           |\n",
      "|    total_timesteps      | 18432        |\n",
      "| train/                  |              |\n",
      "|    approx_kl            | 0.0027388516 |\n",
      "|    clip_fraction        | 0.0483       |\n",
      "|    clip_range           | 0.2          |\n",
      "|    entropy_loss         | -0.594       |\n",
      "|    explained_variance   | -0.000781    |\n",
      "|    learning_rate        | 0.0003       |\n",
      "|    loss                 | 35.5         |\n",
      "|    n_updates            | 190          |\n",
      "|    policy_gradient_loss | -0.00252     |\n",
      "|    value_loss           | 83.8         |\n",
      "------------------------------------------\n",
      "------------------------------------------\n",
      "| rollout/                |              |\n",
      "|    ep_len_mean          | 60           |\n",
      "|    ep_rew_mean          | -25          |\n",
      "| time/                   |              |\n",
      "|    fps                  | 979          |\n",
      "|    iterations           | 10           |\n",
      "|    time_elapsed         | 20           |\n",
      "|    total_timesteps      | 20480        |\n",
      "| train/                  |              |\n",
      "|    approx_kl            | 0.0025488194 |\n",
      "|    clip_fraction        | 0.0347       |\n",
      "|    clip_range           | 0.2          |\n",
      "|    entropy_loss         | -0.584       |\n",
      "|    explained_variance   | 2.33e-05     |\n",
      "|    learning_rate        | 0.0003       |\n",
      "|    loss                 | 45.5         |\n",
      "|    n_updates            | 200          |\n",
      "|    policy_gradient_loss | -0.0013      |\n",
      "|    value_loss           | 105          |\n",
      "------------------------------------------\n"
     ]
    },
    {
     "name": "stdout",
     "output_type": "stream",
     "text": [
      "------------------------------------------\n",
      "| rollout/                |              |\n",
      "|    ep_len_mean          | 60           |\n",
      "|    ep_rew_mean          | -18.6        |\n",
      "| time/                   |              |\n",
      "|    fps                  | 985          |\n",
      "|    iterations           | 11           |\n",
      "|    time_elapsed         | 22           |\n",
      "|    total_timesteps      | 22528        |\n",
      "| train/                  |              |\n",
      "|    approx_kl            | 0.0012098898 |\n",
      "|    clip_fraction        | 0.0298       |\n",
      "|    clip_range           | 0.2          |\n",
      "|    entropy_loss         | -0.545       |\n",
      "|    explained_variance   | 3.78e-05     |\n",
      "|    learning_rate        | 0.0003       |\n",
      "|    loss                 | 44.1         |\n",
      "|    n_updates            | 210          |\n",
      "|    policy_gradient_loss | -0.000527    |\n",
      "|    value_loss           | 91.4         |\n",
      "------------------------------------------\n",
      "-----------------------------------------\n",
      "| rollout/                |             |\n",
      "|    ep_len_mean          | 60          |\n",
      "|    ep_rew_mean          | -13.8       |\n",
      "| time/                   |             |\n",
      "|    fps                  | 991         |\n",
      "|    iterations           | 12          |\n",
      "|    time_elapsed         | 24          |\n",
      "|    total_timesteps      | 24576       |\n",
      "| train/                  |             |\n",
      "|    approx_kl            | 0.003745565 |\n",
      "|    clip_fraction        | 0.0157      |\n",
      "|    clip_range           | 0.2         |\n",
      "|    entropy_loss         | -0.557      |\n",
      "|    explained_variance   | 9.97e-05    |\n",
      "|    learning_rate        | 0.0003      |\n",
      "|    loss                 | 57          |\n",
      "|    n_updates            | 220         |\n",
      "|    policy_gradient_loss | -0.000423   |\n",
      "|    value_loss           | 113         |\n",
      "-----------------------------------------\n",
      "------------------------------------------\n",
      "| rollout/                |              |\n",
      "|    ep_len_mean          | 60           |\n",
      "|    ep_rew_mean          | -15          |\n",
      "| time/                   |              |\n",
      "|    fps                  | 998          |\n",
      "|    iterations           | 13           |\n",
      "|    time_elapsed         | 26           |\n",
      "|    total_timesteps      | 26624        |\n",
      "| train/                  |              |\n",
      "|    approx_kl            | 0.0030771624 |\n",
      "|    clip_fraction        | 0.0347       |\n",
      "|    clip_range           | 0.2          |\n",
      "|    entropy_loss         | -0.469       |\n",
      "|    explained_variance   | -0.00058     |\n",
      "|    learning_rate        | 0.0003       |\n",
      "|    loss                 | 48.3         |\n",
      "|    n_updates            | 230          |\n",
      "|    policy_gradient_loss | -0.000746    |\n",
      "|    value_loss           | 109          |\n",
      "------------------------------------------\n",
      "------------------------------------------\n",
      "| rollout/                |              |\n",
      "|    ep_len_mean          | 60           |\n",
      "|    ep_rew_mean          | -16.8        |\n",
      "| time/                   |              |\n",
      "|    fps                  | 1004         |\n",
      "|    iterations           | 14           |\n",
      "|    time_elapsed         | 28           |\n",
      "|    total_timesteps      | 28672        |\n",
      "| train/                  |              |\n",
      "|    approx_kl            | 0.0023808393 |\n",
      "|    clip_fraction        | 0.0391       |\n",
      "|    clip_range           | 0.2          |\n",
      "|    entropy_loss         | -0.471       |\n",
      "|    explained_variance   | -0.000801    |\n",
      "|    learning_rate        | 0.0003       |\n",
      "|    loss                 | 60.2         |\n",
      "|    n_updates            | 240          |\n",
      "|    policy_gradient_loss | -0.00248     |\n",
      "|    value_loss           | 102          |\n",
      "------------------------------------------\n",
      "------------------------------------------\n",
      "| rollout/                |              |\n",
      "|    ep_len_mean          | 60           |\n",
      "|    ep_rew_mean          | -15.8        |\n",
      "| time/                   |              |\n",
      "|    fps                  | 1009         |\n",
      "|    iterations           | 15           |\n",
      "|    time_elapsed         | 30           |\n",
      "|    total_timesteps      | 30720        |\n",
      "| train/                  |              |\n",
      "|    approx_kl            | 0.0029798832 |\n",
      "|    clip_fraction        | 0.0318       |\n",
      "|    clip_range           | 0.2          |\n",
      "|    entropy_loss         | -0.508       |\n",
      "|    explained_variance   | 0.000293     |\n",
      "|    learning_rate        | 0.0003       |\n",
      "|    loss                 | 46.3         |\n",
      "|    n_updates            | 250          |\n",
      "|    policy_gradient_loss | -0.000576    |\n",
      "|    value_loss           | 99.4         |\n",
      "------------------------------------------\n",
      "------------------------------------------\n",
      "| rollout/                |              |\n",
      "|    ep_len_mean          | 60           |\n",
      "|    ep_rew_mean          | -13.5        |\n",
      "| time/                   |              |\n",
      "|    fps                  | 1012         |\n",
      "|    iterations           | 16           |\n",
      "|    time_elapsed         | 32           |\n",
      "|    total_timesteps      | 32768        |\n",
      "| train/                  |              |\n",
      "|    approx_kl            | 0.0017229936 |\n",
      "|    clip_fraction        | 0.02         |\n",
      "|    clip_range           | 0.2          |\n",
      "|    entropy_loss         | -0.496       |\n",
      "|    explained_variance   | 0.000742     |\n",
      "|    learning_rate        | 0.0003       |\n",
      "|    loss                 | 52.1         |\n",
      "|    n_updates            | 260          |\n",
      "|    policy_gradient_loss | -0.00117     |\n",
      "|    value_loss           | 105          |\n",
      "------------------------------------------\n",
      "------------------------------------------\n",
      "| rollout/                |              |\n",
      "|    ep_len_mean          | 60           |\n",
      "|    ep_rew_mean          | -13.1        |\n",
      "| time/                   |              |\n",
      "|    fps                  | 1022         |\n",
      "|    iterations           | 17           |\n",
      "|    time_elapsed         | 34           |\n",
      "|    total_timesteps      | 34816        |\n",
      "| train/                  |              |\n",
      "|    approx_kl            | 0.0020123068 |\n",
      "|    clip_fraction        | 0.039        |\n",
      "|    clip_range           | 0.2          |\n",
      "|    entropy_loss         | -0.481       |\n",
      "|    explained_variance   | 0.00721      |\n",
      "|    learning_rate        | 0.0003       |\n",
      "|    loss                 | 32.9         |\n",
      "|    n_updates            | 270          |\n",
      "|    policy_gradient_loss | -0.00272     |\n",
      "|    value_loss           | 92.5         |\n",
      "------------------------------------------\n",
      "-------------------------------------------\n",
      "| rollout/                |               |\n",
      "|    ep_len_mean          | 60            |\n",
      "|    ep_rew_mean          | -10.4         |\n",
      "| time/                   |               |\n",
      "|    fps                  | 1030          |\n",
      "|    iterations           | 18            |\n",
      "|    time_elapsed         | 35            |\n",
      "|    total_timesteps      | 36864         |\n",
      "| train/                  |               |\n",
      "|    approx_kl            | 0.00039445385 |\n",
      "|    clip_fraction        | 0.00122       |\n",
      "|    clip_range           | 0.2           |\n",
      "|    entropy_loss         | -0.473        |\n",
      "|    explained_variance   | 0.0331        |\n",
      "|    learning_rate        | 0.0003        |\n",
      "|    loss                 | 43.3          |\n",
      "|    n_updates            | 280           |\n",
      "|    policy_gradient_loss | -2.68e-05     |\n",
      "|    value_loss           | 97            |\n",
      "-------------------------------------------\n",
      "-----------------------------------------\n",
      "| rollout/                |             |\n",
      "|    ep_len_mean          | 60          |\n",
      "|    ep_rew_mean          | -8.86       |\n",
      "| time/                   |             |\n",
      "|    fps                  | 1036        |\n",
      "|    iterations           | 19          |\n",
      "|    time_elapsed         | 37          |\n",
      "|    total_timesteps      | 38912       |\n",
      "| train/                  |             |\n",
      "|    approx_kl            | 0.001631846 |\n",
      "|    clip_fraction        | 0.0199      |\n",
      "|    clip_range           | 0.2         |\n",
      "|    entropy_loss         | -0.501      |\n",
      "|    explained_variance   | 0.0374      |\n",
      "|    learning_rate        | 0.0003      |\n",
      "|    loss                 | 60.6        |\n",
      "|    n_updates            | 290         |\n",
      "|    policy_gradient_loss | -0.00141    |\n",
      "|    value_loss           | 121         |\n",
      "-----------------------------------------\n",
      "-------------------------------------------\n",
      "| rollout/                |               |\n",
      "|    ep_len_mean          | 60            |\n",
      "|    ep_rew_mean          | -5.66         |\n",
      "| time/                   |               |\n",
      "|    fps                  | 1037          |\n",
      "|    iterations           | 20            |\n",
      "|    time_elapsed         | 39            |\n",
      "|    total_timesteps      | 40960         |\n",
      "| train/                  |               |\n",
      "|    approx_kl            | 0.00058089313 |\n",
      "|    clip_fraction        | 0.00161       |\n",
      "|    clip_range           | 0.2           |\n",
      "|    entropy_loss         | -0.515        |\n",
      "|    explained_variance   | 0.0529        |\n",
      "|    learning_rate        | 0.0003        |\n",
      "|    loss                 | 57.6          |\n",
      "|    n_updates            | 300           |\n",
      "|    policy_gradient_loss | 0.000776      |\n",
      "|    value_loss           | 111           |\n",
      "-------------------------------------------\n"
     ]
    },
    {
     "name": "stdout",
     "output_type": "stream",
     "text": [
      "------------------------------------------\n",
      "| rollout/                |              |\n",
      "|    ep_len_mean          | 60           |\n",
      "|    ep_rew_mean          | -5.44        |\n",
      "| time/                   |              |\n",
      "|    fps                  | 1040         |\n",
      "|    iterations           | 21           |\n",
      "|    time_elapsed         | 41           |\n",
      "|    total_timesteps      | 43008        |\n",
      "| train/                  |              |\n",
      "|    approx_kl            | 0.0020763464 |\n",
      "|    clip_fraction        | 0.0289       |\n",
      "|    clip_range           | 0.2          |\n",
      "|    entropy_loss         | -0.489       |\n",
      "|    explained_variance   | 0.0943       |\n",
      "|    learning_rate        | 0.0003       |\n",
      "|    loss                 | 63.7         |\n",
      "|    n_updates            | 310          |\n",
      "|    policy_gradient_loss | -0.00274     |\n",
      "|    value_loss           | 112          |\n",
      "------------------------------------------\n",
      "------------------------------------------\n",
      "| rollout/                |              |\n",
      "|    ep_len_mean          | 60           |\n",
      "|    ep_rew_mean          | -7.58        |\n",
      "| time/                   |              |\n",
      "|    fps                  | 1040         |\n",
      "|    iterations           | 22           |\n",
      "|    time_elapsed         | 43           |\n",
      "|    total_timesteps      | 45056        |\n",
      "| train/                  |              |\n",
      "|    approx_kl            | 0.0015799897 |\n",
      "|    clip_fraction        | 0.00654      |\n",
      "|    clip_range           | 0.2          |\n",
      "|    entropy_loss         | -0.478       |\n",
      "|    explained_variance   | 0.0138       |\n",
      "|    learning_rate        | 0.0003       |\n",
      "|    loss                 | 53           |\n",
      "|    n_updates            | 320          |\n",
      "|    policy_gradient_loss | -5.59e-05    |\n",
      "|    value_loss           | 105          |\n",
      "------------------------------------------\n",
      "------------------------------------------\n",
      "| rollout/                |              |\n",
      "|    ep_len_mean          | 60           |\n",
      "|    ep_rew_mean          | -11.6        |\n",
      "| time/                   |              |\n",
      "|    fps                  | 1042         |\n",
      "|    iterations           | 23           |\n",
      "|    time_elapsed         | 45           |\n",
      "|    total_timesteps      | 47104        |\n",
      "| train/                  |              |\n",
      "|    approx_kl            | 0.0022214022 |\n",
      "|    clip_fraction        | 0.0286       |\n",
      "|    clip_range           | 0.2          |\n",
      "|    entropy_loss         | -0.447       |\n",
      "|    explained_variance   | -0.0537      |\n",
      "|    learning_rate        | 0.0003       |\n",
      "|    loss                 | 43.7         |\n",
      "|    n_updates            | 330          |\n",
      "|    policy_gradient_loss | -0.00074     |\n",
      "|    value_loss           | 108          |\n",
      "------------------------------------------\n",
      "------------------------------------------\n",
      "| rollout/                |              |\n",
      "|    ep_len_mean          | 60           |\n",
      "|    ep_rew_mean          | -12          |\n",
      "| time/                   |              |\n",
      "|    fps                  | 1042         |\n",
      "|    iterations           | 24           |\n",
      "|    time_elapsed         | 47           |\n",
      "|    total_timesteps      | 49152        |\n",
      "| train/                  |              |\n",
      "|    approx_kl            | 0.0017662244 |\n",
      "|    clip_fraction        | 0.0372       |\n",
      "|    clip_range           | 0.2          |\n",
      "|    entropy_loss         | -0.493       |\n",
      "|    explained_variance   | -0.000425    |\n",
      "|    learning_rate        | 0.0003       |\n",
      "|    loss                 | 54           |\n",
      "|    n_updates            | 340          |\n",
      "|    policy_gradient_loss | 0.000597     |\n",
      "|    value_loss           | 103          |\n",
      "------------------------------------------\n",
      "------------------------------------------\n",
      "| rollout/                |              |\n",
      "|    ep_len_mean          | 60           |\n",
      "|    ep_rew_mean          | -10.9        |\n",
      "| time/                   |              |\n",
      "|    fps                  | 1042         |\n",
      "|    iterations           | 25           |\n",
      "|    time_elapsed         | 49           |\n",
      "|    total_timesteps      | 51200        |\n",
      "| train/                  |              |\n",
      "|    approx_kl            | 0.0037495112 |\n",
      "|    clip_fraction        | 0.0423       |\n",
      "|    clip_range           | 0.2          |\n",
      "|    entropy_loss         | -0.486       |\n",
      "|    explained_variance   | -5.07e-05    |\n",
      "|    learning_rate        | 0.0003       |\n",
      "|    loss                 | 46.7         |\n",
      "|    n_updates            | 350          |\n",
      "|    policy_gradient_loss | -0.000198    |\n",
      "|    value_loss           | 95.9         |\n",
      "------------------------------------------\n",
      "------------------------------------------\n",
      "| rollout/                |              |\n",
      "|    ep_len_mean          | 60           |\n",
      "|    ep_rew_mean          | -5.74        |\n",
      "| time/                   |              |\n",
      "|    fps                  | 1046         |\n",
      "|    iterations           | 26           |\n",
      "|    time_elapsed         | 50           |\n",
      "|    total_timesteps      | 53248        |\n",
      "| train/                  |              |\n",
      "|    approx_kl            | 0.0013161204 |\n",
      "|    clip_fraction        | 0.0267       |\n",
      "|    clip_range           | 0.2          |\n",
      "|    entropy_loss         | -0.464       |\n",
      "|    explained_variance   | 0.000366     |\n",
      "|    learning_rate        | 0.0003       |\n",
      "|    loss                 | 58.6         |\n",
      "|    n_updates            | 360          |\n",
      "|    policy_gradient_loss | 0.000604     |\n",
      "|    value_loss           | 109          |\n",
      "------------------------------------------\n",
      "------------------------------------------\n",
      "| rollout/                |              |\n",
      "|    ep_len_mean          | 60           |\n",
      "|    ep_rew_mean          | -8.34        |\n",
      "| time/                   |              |\n",
      "|    fps                  | 1044         |\n",
      "|    iterations           | 27           |\n",
      "|    time_elapsed         | 52           |\n",
      "|    total_timesteps      | 55296        |\n",
      "| train/                  |              |\n",
      "|    approx_kl            | 0.0029742054 |\n",
      "|    clip_fraction        | 0.0408       |\n",
      "|    clip_range           | 0.2          |\n",
      "|    entropy_loss         | -0.457       |\n",
      "|    explained_variance   | -0.00163     |\n",
      "|    learning_rate        | 0.0003       |\n",
      "|    loss                 | 46.5         |\n",
      "|    n_updates            | 370          |\n",
      "|    policy_gradient_loss | -0.0023      |\n",
      "|    value_loss           | 102          |\n",
      "------------------------------------------\n",
      "------------------------------------------\n",
      "| rollout/                |              |\n",
      "|    ep_len_mean          | 60           |\n",
      "|    ep_rew_mean          | -6.16        |\n",
      "| time/                   |              |\n",
      "|    fps                  | 1046         |\n",
      "|    iterations           | 28           |\n",
      "|    time_elapsed         | 54           |\n",
      "|    total_timesteps      | 57344        |\n",
      "| train/                  |              |\n",
      "|    approx_kl            | 0.0014926495 |\n",
      "|    clip_fraction        | 0.0062       |\n",
      "|    clip_range           | 0.2          |\n",
      "|    entropy_loss         | -0.452       |\n",
      "|    explained_variance   | 0.0244       |\n",
      "|    learning_rate        | 0.0003       |\n",
      "|    loss                 | 66           |\n",
      "|    n_updates            | 380          |\n",
      "|    policy_gradient_loss | -0.000644    |\n",
      "|    value_loss           | 110          |\n",
      "------------------------------------------\n",
      "------------------------------------------\n",
      "| rollout/                |              |\n",
      "|    ep_len_mean          | 60           |\n",
      "|    ep_rew_mean          | -7.36        |\n",
      "| time/                   |              |\n",
      "|    fps                  | 1048         |\n",
      "|    iterations           | 29           |\n",
      "|    time_elapsed         | 56           |\n",
      "|    total_timesteps      | 59392        |\n",
      "| train/                  |              |\n",
      "|    approx_kl            | 0.0005877845 |\n",
      "|    clip_fraction        | 0            |\n",
      "|    clip_range           | 0.2          |\n",
      "|    entropy_loss         | -0.435       |\n",
      "|    explained_variance   | 0.0233       |\n",
      "|    learning_rate        | 0.0003       |\n",
      "|    loss                 | 53           |\n",
      "|    n_updates            | 390          |\n",
      "|    policy_gradient_loss | -0.000203    |\n",
      "|    value_loss           | 105          |\n",
      "------------------------------------------\n",
      "----------------------------------------\n",
      "| rollout/                |            |\n",
      "|    ep_len_mean          | 60         |\n",
      "|    ep_rew_mean          | -6.28      |\n",
      "| time/                   |            |\n",
      "|    fps                  | 1050       |\n",
      "|    iterations           | 30         |\n",
      "|    time_elapsed         | 58         |\n",
      "|    total_timesteps      | 61440      |\n",
      "| train/                  |            |\n",
      "|    approx_kl            | 0.00093508 |\n",
      "|    clip_fraction        | 0.00835    |\n",
      "|    clip_range           | 0.2        |\n",
      "|    entropy_loss         | -0.412     |\n",
      "|    explained_variance   | 0.0373     |\n",
      "|    learning_rate        | 0.0003     |\n",
      "|    loss                 | 66.9       |\n",
      "|    n_updates            | 400        |\n",
      "|    policy_gradient_loss | -0.00112   |\n",
      "|    value_loss           | 130        |\n",
      "----------------------------------------\n"
     ]
    },
    {
     "data": {
      "text/plain": [
       "<stable_baselines3.ppo.ppo.PPO at 0x7fe36d9e15b0>"
      ]
     },
     "execution_count": 108,
     "metadata": {},
     "output_type": "execute_result"
    }
   ],
   "source": [
    "model.learn(total_timesteps=60000)"
   ]
  },
  {
   "cell_type": "markdown",
   "id": "19befd7f",
   "metadata": {},
   "source": [
    "# 6. Save model"
   ]
  },
  {
   "cell_type": "code",
   "execution_count": 110,
   "id": "11a9006f",
   "metadata": {},
   "outputs": [],
   "source": [
    "shower_path = os.path.join('Training', 'Saved Models', 'Shower_Model_PPO')\n"
   ]
  },
  {
   "cell_type": "code",
   "execution_count": 111,
   "id": "4b21e3c1",
   "metadata": {},
   "outputs": [
    {
     "name": "stderr",
     "output_type": "stream",
     "text": [
      "/home/l3gion/anaconda3/lib/python3.9/site-packages/stable_baselines3/common/save_util.py:276: UserWarning: Path 'Training/Saved Models' does not exist. Will create it.\n",
      "  warnings.warn(f\"Path '{path.parent}' does not exist. Will create it.\")\n"
     ]
    }
   ],
   "source": [
    "model.save(shower_path)"
   ]
  },
  {
   "cell_type": "code",
   "execution_count": 112,
   "id": "503fab33",
   "metadata": {},
   "outputs": [],
   "source": [
    "del model"
   ]
  },
  {
   "cell_type": "code",
   "execution_count": 113,
   "id": "d9397846",
   "metadata": {},
   "outputs": [
    {
     "name": "stdout",
     "output_type": "stream",
     "text": [
      "Wrapping the env with a `Monitor` wrapper\n",
      "Wrapping the env in a DummyVecEnv.\n"
     ]
    }
   ],
   "source": [
    "model = PPO.load(shower_path, env)"
   ]
  },
  {
   "cell_type": "code",
   "execution_count": 119,
   "id": "525b1491",
   "metadata": {},
   "outputs": [
    {
     "data": {
      "text/plain": [
       "(-12.0, 58.787753826796276)"
      ]
     },
     "execution_count": 119,
     "metadata": {},
     "output_type": "execute_result"
    }
   ],
   "source": [
    "evaluate_policy(model, env, n_eval_episodes=10,)"
   ]
  }
 ],
 "metadata": {
  "kernelspec": {
   "display_name": "Python 3 (ipykernel)",
   "language": "python",
   "name": "python3"
  },
  "language_info": {
   "codemirror_mode": {
    "name": "ipython",
    "version": 3
   },
   "file_extension": ".py",
   "mimetype": "text/x-python",
   "name": "python",
   "nbconvert_exporter": "python",
   "pygments_lexer": "ipython3",
   "version": "3.9.13"
  }
 },
 "nbformat": 4,
 "nbformat_minor": 5
}
